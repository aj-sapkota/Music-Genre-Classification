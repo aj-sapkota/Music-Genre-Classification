{
  "cells": [
    {
      "cell_type": "code",
      "execution_count": 1,
      "id": "1fc94438",
      "metadata": {
        "id": "1fc94438",
        "scrolled": true
      },
      "outputs": [
        {
          "name": "stderr",
          "output_type": "stream",
          "text": [
            "C:\\Users\\AJ\\anaconda3\\lib\\site-packages\\torchvision\\io\\image.py:11: UserWarning: Failed to load image Python extension: Could not find module 'C:\\Users\\AJ\\anaconda3\\Lib\\site-packages\\torchvision\\image.pyd' (or one of its dependencies). Try using the full path with constructor syntax.\n",
            "  warn(f\"Failed to load image Python extension: {e}\")\n"
          ]
        }
      ],
      "source": [
        "import numpy as np\n",
        "import torch\n",
        "import torch.nn as nn\n",
        "import torch.nn.functional as F\n",
        "from torch.utils.data import DataLoader,TensorDataset\n",
        "from sklearn.model_selection import train_test_split\n",
        "import sklearn.metrics as skm\n",
        "import torchvision\n",
        "from torchsummary import summary\n",
        "\n",
        "\n",
        "import matplotlib.pyplot as plt\n",
        "%matplotlib inline\n",
        "\n",
        "import json\n",
        "import pickle"
      ]
    },
    {
      "cell_type": "code",
      "execution_count": 2,
      "id": "521b5b32",
      "metadata": {
        "id": "521b5b32"
      },
      "outputs": [],
      "source": [
        "#for gpu model\n",
        "device = torch.device('cuda:0' if torch.cuda.is_available() else 'cpu')"
      ]
    },
    {
      "cell_type": "code",
      "execution_count": 3,
      "id": "835df96a",
      "metadata": {
        "colab": {
          "base_uri": "https://localhost:8080/"
        },
        "id": "835df96a",
        "outputId": "1de861e9-5583-4f26-895e-b638f32e124d"
      },
      "outputs": [
        {
          "data": {
            "text/plain": [
              "True"
            ]
          },
          "execution_count": 3,
          "metadata": {},
          "output_type": "execute_result"
        }
      ],
      "source": [
        "torch.cuda.is_available()"
      ]
    },
    {
      "cell_type": "code",
      "execution_count": 4,
      "id": "hTRJ3oydmzKS",
      "metadata": {
        "colab": {
          "base_uri": "https://localhost:8080/"
        },
        "id": "hTRJ3oydmzKS",
        "outputId": "dcf2d768-d50a-43dd-add7-dda2fec724ab"
      },
      "outputs": [],
      "source": [
        "# from google.colab import drive\n",
        "# drive.mount('/content/drive')"
      ]
    },
    {
      "cell_type": "code",
      "execution_count": null,
      "id": "x3Rrm1MfmzcX",
      "metadata": {
        "id": "x3Rrm1MfmzcX"
      },
      "outputs": [],
      "source": []
    },
    {
      "cell_type": "code",
      "execution_count": 5,
      "id": "3773aae2",
      "metadata": {
        "id": "3773aae2"
      },
      "outputs": [],
      "source": [
        "#loading data from json file \n",
        "# path = '/content/drive/MyDrive/Colab Notebooks/data_test.json'\n",
        "path = 'dataset/data_10.json'\n",
        "\n",
        "with open(path,\"r\") as jsonLoad:\n",
        "    mainData = json.load(jsonLoad)\n",
        "    labels = mainData['labels']\n",
        "    data = mainData['mfcc']\n",
        "    mappings = mainData['mapping']\n",
        "    "
      ]
    },
    {
      "cell_type": "code",
      "execution_count": 6,
      "id": "658d9152",
      "metadata": {
        "colab": {
          "base_uri": "https://localhost:8080/"
        },
        "id": "658d9152",
        "outputId": "75959e3d-3c6d-44ea-8a22-80fd94528929"
      },
      "outputs": [
        {
          "name": "stdout",
          "output_type": "stream",
          "text": [
            "['disco', 'metal', 'reggae', 'blues', 'rock', 'classical', 'jazz', 'hiphop', 'country', 'pop']\n",
            "5992\n",
            "torch.Size([5992, 216, 13])\n",
            "torch.Size([5992, 1, 216, 13])\n",
            "<class 'torch.Tensor'>\n"
          ]
        }
      ],
      "source": [
        "#inspection of data\n",
        "\n",
        "print(mappings)\n",
        "print(len(data))\n",
        "\n",
        "dataT = torch.tensor(data).float()\n",
        "labelsT = torch.tensor(labels).long()\n",
        "print(dataT.shape)\n",
        "\n",
        "#transform to 4d tensors \n",
        "mfccCoeff = dataT.view([5992,1,216,13]).float()\n",
        "print(mfccCoeff.shape)\n",
        "print(type(mfccCoeff))"
      ]
    },
    {
      "cell_type": "code",
      "execution_count": 7,
      "id": "ac7d03d6",
      "metadata": {
        "colab": {
          "base_uri": "https://localhost:8080/"
        },
        "id": "ac7d03d6",
        "outputId": "df0d9309-7106-47fb-a0df-60f9eae62a07"
      },
      "outputs": [
        {
          "name": "stdout",
          "output_type": "stream",
          "text": [
            "torch.Size([5992])\n"
          ]
        },
        {
          "data": {
            "text/plain": [
              "tensor([-734.1906, -732.8031, -732.6166,  ...,  274.5250,  274.6183,\n",
              "         276.7925])"
            ]
          },
          "execution_count": 7,
          "metadata": {},
          "output_type": "execute_result"
        }
      ],
      "source": [
        "# print(dataT.shape)\n",
        "print(labelsT.shape)\n",
        "\n",
        "torch.unique(dataT)"
      ]
    },
    {
      "cell_type": "code",
      "execution_count": 8,
      "id": "bde245f2",
      "metadata": {
        "colab": {
          "base_uri": "https://localhost:8080/",
          "height": 545
        },
        "id": "bde245f2",
        "outputId": "a1920331-a830-443a-ddf1-b8dc3d5c8cf0"
      },
      "outputs": [
        {
          "data": {
            "image/png": "[encoded data removed]",
            "text/plain": [
              "<Figure size 432x288 with 1 Axes>"
            ]
          },
          "metadata": {
            "needs_background": "light"
          },
          "output_type": "display_data"
        },
        {
          "data": {
            "image/png": "[encoded data removed]",
            "text/plain": [
              "<Figure size 432x288 with 1 Axes>"
            ]
          },
          "metadata": {
            "needs_background": "light"
          },
          "output_type": "display_data"
        }
      ],
      "source": [
        "#normalization of data\n",
        "plt.hist(mfccCoeff[:10,:,:,:].view(1,-1).detach(),40)\n",
        "plt.title('Raw values')\n",
        "plt.show()\n",
        "\n",
        "mfccCoeff /= torch.max(mfccCoeff)\n",
        "plt.hist(mfccCoeff[:10,:,:,:].view(1,-1).detach(),40)\n",
        "plt.title('Raw values')\n",
        "plt.show()"
      ]
    },
    {
      "cell_type": "code",
      "execution_count": 69,
      "id": "0f7f52a1",
      "metadata": {
        "id": "0f7f52a1"
      },
      "outputs": [],
      "source": [
        "train_data,test_data,train_labels,test_labels = train_test_split(mfccCoeff,labelsT,test_size=.1)\n",
        "\n",
        "\n",
        "train_data = TensorDataset(train_data,train_labels)\n",
        "test_data  = TensorDataset(test_data,test_labels)\n",
        "\n",
        "batchsize = 32\n",
        "train_loader = DataLoader(train_data,batch_size=batchsize,shuffle=True,drop_last=False)\n",
        "test_loader = DataLoader(test_data,batch_size=test_data.tensors[0].shape[0])\n"
      ]
    },
    {
      "cell_type": "code",
      "execution_count": 44,
      "id": "aef6349b",
      "metadata": {
        "colab": {
          "base_uri": "https://localhost:8080/"
        },
        "id": "aef6349b",
        "outputId": "c5ab8488-486f-4165-9969-5e13389c0f4a"
      },
      "outputs": [
        {
          "name": "stdout",
          "output_type": "stream",
          "text": [
            "torch.Size([4793, 1, 216, 13])\n",
            "torch.Size([4793])\n",
            "\n",
            "\n",
            "torch.Size([1199, 1, 216, 13])\n",
            "torch.Size([1199])\n",
            "1199\n"
          ]
        }
      ],
      "source": [
        "#check size\n",
        "print(train_loader.dataset.tensors[0].shape)\n",
        "print(train_loader.dataset.tensors[1].shape)\n",
        "\n",
        "print('\\n')\n",
        "print(test_loader.dataset.tensors[0].shape)\n",
        "print(test_loader.dataset.tensors[1].shape)\n",
        "\n",
        "print(test_data.tensors[0].shape[0])"
      ]
    },
    {
      "cell_type": "code",
      "execution_count": 63,
      "id": "a812a25e",
      "metadata": {
        "id": "a812a25e"
      },
      "outputs": [],
      "source": [
        "def makeTheModel(printtoggle=False):\n",
        "    class musicNet(nn.Module):\n",
        "        def __init__(self,printtoggle):\n",
        "            super().__init__()\n",
        "            \n",
        "            #printtoggle\n",
        "            self.print = printtoggle\n",
        "            \n",
        "            #firstconvolution layer\n",
        "            self.conv1 = nn.Conv2d(1,64,3,padding=1)\n",
        "            self.bnorm1 = nn.BatchNorm2d(64) \n",
        "            \n",
        "            #second convolution layer\n",
        "            self.conv2 = nn.Conv2d(64,128,3,padding=1)\n",
        "            self.bnorm2 = nn.BatchNorm2d(128)\n",
        "            \n",
        "            #linear layers\n",
        "            self.fc1 = nn.Linear(54*3*128,256)\n",
        "            self.fc2 = nn.Linear(256,64)\n",
        "            self.fc3 = nn.Linear(64,10)\n",
        "            \n",
        "        def forward(self,x):\n",
        "            \n",
        "            if self.print: print(f'Input: {list(x.shape)}')\n",
        "                \n",
        "            #firstblock \n",
        "            x = F.leaky_relu( self.bnorm1( F.max_pool2d(self.conv1(x),2) ) )\n",
        "            if self.print: print(f'First block : {list(x.shape)}')\n",
        "            \n",
        "            #secondblock\n",
        "            x = F.leaky_relu( self.bnorm2( F.max_pool2d(self.conv2(x),2) ) )\n",
        "            if self.print: print(f'Second block : {list(x.shape)}')\n",
        "            \n",
        "            #reshape for linear layer\n",
        "            nUnits = x.shape.numel()/x.shape[0]\n",
        "#             print(x.shape.numel()),print(x.shape[0]),print(nUnits)\n",
        "            x = x.view(-1,int(nUnits))\n",
        "            if self.print: print(f'Vectorized : {list(x.shape)}')\n",
        "\n",
        "            #linear layer\n",
        "            x = F.leaky_relu(self.fc1(x))\n",
        "            x = F.dropout(x,p=.5,training=self.training)\n",
        "            x = F.leaky_relu(self.fc2(x))\n",
        "            x = F.dropout(x,p=.65,training=self.training)\n",
        "            x = self.fc3(x)\n",
        "            # print(\"'''''''\")\n",
        "            # print(x.shape)\n",
        "            x = F.softmax(x,dim=-1)\n",
        "\n",
        "            if self.print: print(f'Final output : {list(x.shape)}')\n",
        "                \n",
        "            return x\n",
        "    \n",
        "    #model instance\n",
        "    net = musicNet(printtoggle)\n",
        "    \n",
        "    \n",
        "    # print(\"Model's state_dict:\")\n",
        "    # for param_tensor in net.state_dict():\n",
        "    #    print(param_tensor, \"\\t\", net.state_dict()[param_tensor].size())\n",
        "    \n",
        "    #lossfun\n",
        "    lossfun = nn.CrossEntropyLoss()\n",
        "    \n",
        "    #optimzer\n",
        "    optimizer = torch.optim.Adam(net.parameters(),lr=.0001,weight_decay=1e-5)\n",
        "    \n",
        "    # print(\"Optimizer's state_dict:\")\n",
        "    # for var_name in optimizer.state_dict():\n",
        "    #    print(var_name,\"\\t\", optimizer.state_dict()[var_name])\n",
        "    \n",
        "    \n",
        "    return net,lossfun,optimizer\n",
        "                       "
      ]
    },
    {
      "cell_type": "code",
      "execution_count": 48,
      "id": "3999620b",
      "metadata": {
        "colab": {
          "base_uri": "https://localhost:8080/"
        },
        "id": "3999620b",
        "outputId": "84509daf-1914-41c1-84c2-900d4589de53"
      },
      "outputs": [
        {
          "name": "stdout",
          "output_type": "stream",
          "text": [
            "Input: [32, 1, 216, 13]\n",
            "First block : [32, 64, 108, 6]\n",
            "Second block : [32, 128, 54, 3]\n",
            "Vectorized : [32, 20736]\n",
            "Final output : [32, 10]\n",
            "\n",
            "Output size:\n",
            "torch.Size([32, 10])\n",
            " \n",
            "Loss:\n",
            "tensor(2.3031, grad_fn=<NllLossBackward0>)\n"
          ]
        }
      ],
      "source": [
        "# test the model with one batch\n",
        "net,lossfun,optimizer = makeTheModel(True)\n",
        "\n",
        "X,y = iter(train_loader).next()\n",
        "yHat = net(X)\n",
        "\n",
        "# check size of output\n",
        "print('\\nOutput size:')\n",
        "print(yHat.shape)\n",
        "\n",
        "# # now let's compute the loss\n",
        "loss = lossfun(yHat,torch.squeeze(y))\n",
        "print(' ')\n",
        "print('Loss:')\n",
        "print(loss)"
      ]
    },
    {
      "cell_type": "code",
      "execution_count": null,
      "id": "193b659c",
      "metadata": {
        "id": "193b659c"
      },
      "outputs": [],
      "source": []
    },
    {
      "cell_type": "code",
      "execution_count": 57,
      "id": "1ea1cedc",
      "metadata": {
        "id": "1ea1cedc"
      },
      "outputs": [],
      "source": [
        "#train model\n",
        "def function2trainTheModel():\n",
        "\n",
        "  # number of epochs\n",
        "  numepochs = 50\n",
        "  \n",
        "  # create a new model\n",
        "  net,lossfun,optimizer = makeTheModel()\n",
        "\n",
        "  # send the model to the GPU\n",
        "  net.to(device)\n",
        "\n",
        "  # initialize losses\n",
        "  trainLoss = torch.zeros(numepochs)\n",
        "  testLoss  = torch.zeros(numepochs)\n",
        "  trainErr  = torch.zeros(numepochs)\n",
        "  testErr   = torch.zeros(numepochs)\n",
        "\n",
        "\n",
        "  # loop over epochs\n",
        "  for epochi in range(numepochs):\n",
        "\n",
        "    # loop over training data batches\n",
        "    net.train()\n",
        "    batchLoss = []\n",
        "    batchErr  = []\n",
        "    for X,y in train_loader:\n",
        "\n",
        "      # push data to GPU\n",
        "      X = X.to(device)\n",
        "      y = y.to(device)\n",
        "\n",
        "      # forward pass and loss\n",
        "      yHat = net(X)\n",
        "      loss = lossfun(yHat,y)\n",
        "\n",
        "      # backprop\n",
        "      optimizer.zero_grad()\n",
        "      loss.backward()\n",
        "      optimizer.step()\n",
        "\n",
        "      # loss and error from this batch\n",
        "      batchLoss.append(loss.item())\n",
        "      batchErr.append( torch.mean((torch.argmax(yHat,axis=1) != y).float()).item() )\n",
        "    # end of batch loop...\n",
        "\n",
        "    # and get average losses and error rates across the batches\n",
        "    trainLoss[epochi] = np.mean(batchLoss)\n",
        "    trainErr[epochi]  = 100*np.mean(batchErr)\n",
        "\n",
        "\n",
        "\n",
        "    ### test performance\n",
        "    net.eval()\n",
        "    X,y = next(iter(test_loader)) # extract X,y from test dataloader\n",
        "\n",
        "    # push data to GPU\n",
        "    X = X.to(device)\n",
        "    y = y.to(device)\n",
        "\n",
        "    with torch.no_grad(): # deactivates autograd\n",
        "      yHat = net(X)\n",
        "      loss = lossfun(yHat,y)\n",
        "      \n",
        "    # get loss and error rate from the test batch\n",
        "    testLoss[epochi] = loss.item()\n",
        "    testErr[epochi]  = 100*torch.mean((torch.argmax(yHat,axis=1) != y).float()).item()\n",
        "\n",
        "\n",
        "  # end epochs\n",
        "\n",
        "  # function output\n",
        "  return trainLoss,testLoss,trainErr,testErr,net,yHat"
      ]
    },
    {
      "cell_type": "code",
      "execution_count": 64,
      "id": "2849a69f",
      "metadata": {
        "id": "2849a69f"
      },
      "outputs": [],
      "source": [
        "trainLoss,testLoss,trainErr,testErr,netModule, y_predicted_feature = function2trainTheModel()"
      ]
    },
    {
      "cell_type": "code",
      "execution_count": null,
      "id": "deb1cabf",
      "metadata": {},
      "outputs": [],
      "source": [
        "\n",
        "    "
      ]
    },
    {
      "cell_type": "code",
      "execution_count": 65,
      "id": "d7ae9ed5",
      "metadata": {},
      "outputs": [
        {
          "name": "stdout",
          "output_type": "stream",
          "text": [
            "Model state dict\n",
            "conv1.weight \t torch.Size([64, 1, 3, 3])\n",
            "conv1.bias \t torch.Size([64])\n",
            "bnorm1.weight \t torch.Size([64])\n",
            "bnorm1.bias \t torch.Size([64])\n",
            "bnorm1.running_mean \t torch.Size([64])\n",
            "bnorm1.running_var \t torch.Size([64])\n",
            "bnorm1.num_batches_tracked \t torch.Size([])\n",
            "conv2.weight \t torch.Size([128, 64, 3, 3])\n",
            "conv2.bias \t torch.Size([128])\n",
            "bnorm2.weight \t torch.Size([128])\n",
            "bnorm2.bias \t torch.Size([128])\n",
            "bnorm2.running_mean \t torch.Size([128])\n",
            "bnorm2.running_var \t torch.Size([128])\n",
            "bnorm2.num_batches_tracked \t torch.Size([])\n",
            "fc1.weight \t torch.Size([256, 20736])\n",
            "fc1.bias \t torch.Size([256])\n",
            "fc2.weight \t torch.Size([64, 256])\n",
            "fc2.bias \t torch.Size([64])\n",
            "fc3.weight \t torch.Size([10, 64])\n",
            "fc3.bias \t torch.Size([10])\n"
          ]
        }
      ],
      "source": [
        "#for deploying model\n",
        "\n",
        "# print(next(netModule.parameters()).is_cuda)   #checking whether module in gpu or cpu\n",
        "\n",
        "print('Model state dict')\n",
        "for param_tensor in netModule.state_dict():\n",
        "    print(param_tensor,\"\\t\",netModule.state_dict()[param_tensor].size())\n",
        "\n",
        "\n",
        "\n",
        "path = '../musicgenre/model.pth'\n",
        "torch.save(netModule.state_dict(),path)\n",
        "    "
      ]
    },
    {
      "cell_type": "markdown",
      "id": "1e765672",
      "metadata": {
        "id": "1e765672"
      },
      "source": [
        "# graphical representation part start\n"
      ]
    },
    {
      "cell_type": "code",
      "execution_count": 66,
      "id": "cc0025ed",
      "metadata": {},
      "outputs": [],
      "source": [
        "y_predicted = torch.argmax(y_predicted_feature.cpu(),axis=1)"
      ]
    },
    {
      "cell_type": "code",
      "execution_count": 70,
      "id": "ae51eeab",
      "metadata": {
        "colab": {
          "base_uri": "https://localhost:8080/",
          "height": 350
        },
        "id": "ae51eeab",
        "outputId": "9030cf1b-dde8-43dd-a78e-e775f48edaf4",
        "scrolled": true
      },
      "outputs": [
        {
          "data": {
            "image/png": "[encoded data removed]",
            "text/plain": [
              "<Figure size 1152x360 with 2 Axes>"
            ]
          },
          "metadata": {
            "needs_background": "light"
          },
          "output_type": "display_data"
        }
      ],
      "source": [
        "fig,ax = plt.subplots(1,2,figsize=(16,5))\n",
        "\n",
        "ax[0].plot(trainLoss,'s-',label='Train')\n",
        "ax[0].plot(testLoss,'o-',label='Test')\n",
        "ax[0].set_xlabel('Epochs')\n",
        "ax[0].set_ylabel('Loss ')\n",
        "ax[0].set_title('Model loss')\n",
        "\n",
        "ax[1].plot(trainErr,'s-',label='Train')\n",
        "ax[1].plot(testErr,'o-',label='Test')\n",
        "ax[1].set_xlabel('Epochs')\n",
        "ax[1].set_ylabel('Error rates (%)')\n",
        "ax[1].set_title(f'Final model test error rate: {testErr[-1]:.2f}%')\n",
        "ax[1].legend()\n",
        "\n",
        "plt.show()"
      ]
    },
    {
      "cell_type": "code",
      "execution_count": 1,
      "id": "5-8ShW45qMXT",
      "metadata": {
        "colab": {
          "base_uri": "https://localhost:8080/"
        },
        "id": "5-8ShW45qMXT",
        "outputId": "b4a55eda-2cec-43e8-d16a-e9ff3fb5b52f"
      },
      "outputs": [
        {
          "ename": "NameError",
          "evalue": "name 'test_labels' is not defined",
          "output_type": "error",
          "traceback": [
            "\u001b[1;31m---------------------------------------------------------------------------\u001b[0m",
            "\u001b[1;31mNameError\u001b[0m                                 Traceback (most recent call last)",
            "\u001b[1;32m~\\AppData\\Local\\Temp/ipykernel_6040/973296789.py\u001b[0m in \u001b[0;36m<module>\u001b[1;34m\u001b[0m\n\u001b[0;32m      1\u001b[0m \u001b[1;32mfrom\u001b[0m \u001b[0msklearn\u001b[0m\u001b[1;33m.\u001b[0m\u001b[0mmetrics\u001b[0m \u001b[1;32mimport\u001b[0m \u001b[0mclassification_report\u001b[0m\u001b[1;33m\u001b[0m\u001b[1;33m\u001b[0m\u001b[0m\n\u001b[1;32m----> 2\u001b[1;33m \u001b[0mprint\u001b[0m\u001b[1;33m(\u001b[0m\u001b[0mclassification_report\u001b[0m\u001b[1;33m(\u001b[0m\u001b[0mtest_labels\u001b[0m\u001b[1;33m.\u001b[0m\u001b[0mdetach\u001b[0m\u001b[1;33m(\u001b[0m\u001b[1;33m)\u001b[0m\u001b[1;33m,\u001b[0m\u001b[0my_predicted\u001b[0m\u001b[1;33m)\u001b[0m\u001b[1;33m)\u001b[0m\u001b[1;33m\u001b[0m\u001b[1;33m\u001b[0m\u001b[0m\n\u001b[0m",
            "\u001b[1;31mNameError\u001b[0m: name 'test_labels' is not defined"
          ]
        }
      ],
      "source": [
        "\n",
        "from sklearn.metrics import classification_report\n",
        "print(classification_report(test_labels.detach(),y_predicted))"
      ]
    },
    {
      "cell_type": "code",
      "execution_count": null,
      "id": "3719d1bb",
      "metadata": {
        "colab": {
          "base_uri": "https://localhost:8080/",
          "height": 621
        },
        "id": "3719d1bb",
        "outputId": "bd06d3f6-7018-45bb-d5fb-97911e1bae24"
      },
      "outputs": [],
      "source": []
    },
    {
      "cell_type": "code",
      "execution_count": 19,
      "id": "22d2a258",
      "metadata": {},
      "outputs": [
        {
          "data": {
            "text/plain": [
              "Text(114.0, 0.5, '\\nGenre')"
            ]
          },
          "execution_count": 19,
          "metadata": {},
          "output_type": "execute_result"
        },
        {
          "data": {
            "image/png": "[encoded data removed]",
            "text/plain": [
              "<Figure size 1080x360 with 2 Axes>"
            ]
          },
          "metadata": {
            "needs_background": "light"
          },
          "output_type": "display_data"
        }
      ],
      "source": [
        "import seaborn as sns\n",
        "import matplotlib.pyplot as plt\n",
        "plt = plt.figure(figsize=(15,5))\n",
        "c = skm.confusion_matrix(test_labels.detach(), y_predicted, normalize='pred')\n",
        "plt_1 =sns.heatmap(c,annot=True,cmap='summer',xticklabels=mappings,yticklabels=mappings)\n",
        "plt_1.set_title('Confusion matrix\\n\\n');\n",
        "plt_1.set_xlabel('\\nGenre')\n",
        "plt_1.set_ylabel('\\nGenre')\n",
        "\n",
        "\n",
        "\n",
        "\n"
      ]
    },
    {
      "cell_type": "code",
      "execution_count": 20,
      "id": "951668df",
      "metadata": {
        "colab": {
          "base_uri": "https://localhost:8080/"
        },
        "id": "951668df",
        "outputId": "ee9f3032-977e-4d0f-e5c0-9a1a00c06ba3"
      },
      "outputs": [
        {
          "name": "stdout",
          "output_type": "stream",
          "text": [
            "torch.Size([600])\n"
          ]
        }
      ],
      "source": [
        "print(y_predicted.shape)"
      ]
    },
    {
      "cell_type": "code",
      "execution_count": 21,
      "id": "3bb68741",
      "metadata": {
        "colab": {
          "base_uri": "https://localhost:8080/"
        },
        "id": "3bb68741",
        "outputId": "883c9a88-05d4-4317-c90e-f7e1ff820796"
      },
      "outputs": [
        {
          "name": "stdout",
          "output_type": "stream",
          "text": [
            "torch.Size([600])\n"
          ]
        }
      ],
      "source": [
        "print(test_labels.shape)\n",
        "# print(test_labels)"
      ]
    },
    {
      "cell_type": "code",
      "execution_count": 22,
      "id": "fa895ca3",
      "metadata": {
        "id": "fa895ca3"
      },
      "outputs": [],
      "source": [
        "y_predicted_labels = torch.softmax(y_predicted_feature.cpu(),axis=1)"
      ]
    },
    {
      "cell_type": "code",
      "execution_count": 23,
      "id": "c16f0f03",
      "metadata": {
        "colab": {
          "base_uri": "https://localhost:8080/"
        },
        "id": "c16f0f03",
        "outputId": "95eba2d6-5ca8-47f3-db68-32a880cce7f3"
      },
      "outputs": [
        {
          "data": {
            "text/plain": [
              "tensor([0.0853, 0.0853, 0.0853, 0.0853, 0.0853, 0.2320, 0.0853, 0.0853, 0.0853,\n",
              "        0.0853])"
            ]
          },
          "execution_count": 23,
          "metadata": {},
          "output_type": "execute_result"
        }
      ],
      "source": [
        "y_predicted_labels[1]"
      ]
    },
    {
      "cell_type": "code",
      "execution_count": 24,
      "id": "_gQq90wpI9Lr",
      "metadata": {
        "id": "_gQq90wpI9Lr"
      },
      "outputs": [],
      "source": [
        "map=['disco', 'metal', 'reggae', 'blues', 'rock', 'classical', 'jazz', 'hiphop', 'country', 'pop']"
      ]
    },
    {
      "cell_type": "code",
      "execution_count": 25,
      "id": "10843ef2",
      "metadata": {
        "colab": {
          "base_uri": "https://localhost:8080/",
          "height": 336
        },
        "id": "10843ef2",
        "outputId": "d0fffa9f-4187-426e-8cb0-32fadfe04c76"
      },
      "outputs": [
        {
          "data": {
            "image/png": "[encoded data removed]",
            "text/plain": [
              "<Figure size 432x288 with 1 Axes>"
            ]
          },
          "metadata": {
            "needs_background": "light"
          },
          "output_type": "display_data"
        }
      ],
      "source": [
        "import matplotlib.pyplot as plt\n",
        "fig = plt.figure()\n",
        "ax = fig.add_axes([0,0,1,1])\n",
        "langs = ['disco', 'metal', 'reggae', 'blues', 'rock', 'classical', 'jazz', 'hiphop', 'country', 'pop']\n",
        "\n",
        "ax.bar(langs,y_predicted_labels[1])\n",
        "plt.show()"
      ]
    },
    {
      "cell_type": "code",
      "execution_count": null,
      "id": "ziNQgSlwXdB7",
      "metadata": {
        "id": "ziNQgSlwXdB7"
      },
      "outputs": [],
      "source": []
    }
  ],
  "metadata": {
    "accelerator": "GPU",
    "colab": {
      "collapsed_sections": [],
      "name": "second_attempt.ipynb",
      "provenance": []
    },
    "kernelspec": {
      "display_name": "Python 3",
      "language": "python",
      "name": "python3"
    },
    "language_info": {
      "codemirror_mode": {
        "name": "ipython",
        "version": 3
      },
      "file_extension": ".py",
      "mimetype": "text/x-python",
      "name": "python",
      "nbconvert_exporter": "python",
      "pygments_lexer": "ipython3",
      "version": "3.9.2 (tags/v3.9.2:1a79785, Feb 19 2021, 13:44:55) [MSC v.1928 64 bit (AMD64)]"
    },
    "vscode": {
      "interpreter": {
        "hash": "a08cb93f7efef769ea93aea3c7fef886ef73cca89995c912e3f19b5c50570028"
      }
    }
  },
  "nbformat": 4,
  "nbformat_minor": 5
}
